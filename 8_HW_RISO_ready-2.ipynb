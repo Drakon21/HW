{
 "cells": [
  {
   "cell_type": "markdown",
   "metadata": {
    "colab_type": "text",
    "id": "phfKtZ6YmBfX"
   },
   "source": [
    "# Домашнее задание.\n",
    "\n",
    "Вам нужно решить задачи, предложенные в блокноте и отправить этот блокнот обратно через проект в ЛМС. \n",
    "\n",
    "Засчитываются только те задания, которые полностью выполнены и код работает (мы будем вручную запускать эти ячейки, поэтому если ваш код не сработает, то мы будем считать, что задание не выполненно).\n",
    "\n",
    "Если мы обнаружим списанные работы - мы обнулим результат всем студентам, которых мы подозреваем в списывании. Если у нас будут сомнения, будет проведена защита домашнего задания по результатам которого, к домашнему заданию может быть применен штраф от 25 до 100%.\n",
    "\n"
   ]
  },
  {
   "cell_type": "markdown",
   "metadata": {
    "colab_type": "text",
    "id": "WqWleAH3mgu2"
   },
   "source": [
    "**Задание 1.**  \n",
    "*5 баллов*  \n",
    "\n",
    "1. На странице в https://en.wikipedia.org/wiki/List_of_largest_companies_by_revenue нужно найти таблицу под названием \"List of largest companies by revenue\". \n",
    "\n",
    "2. С помощью поиска по тегам, нужно сохранить из таблицы следующие колонки: 'Name', 'Revenue (USD billion)', 'Country'. Каждая колонка таблицы должна быть сохранена в отдельную переменную (см. ниже названия), внутри которой лежит список, где первое значение - название колонки.\n",
    "\n",
    "При поиске класса таблицы опускайте часть названия класса, которая относится к jquery (например jquery-tablesorter). Также обратите внимание, что первое значение в каждом ряду (колонка rank) лежит в тэге th, поэтому номер элемента для нужной колонке в первом ряду с table headers и в других рядах будет отличаться на 1. \n",
    "\n",
    "Например, колонки 'industry' список будет выглядеть так:  \n",
    "['Industry', 'Retail', ...остальные значения..., \t'Oil and gas']\n",
    "3. Выведите эти три списка командой  \n",
    "print(name)  \n",
    "print(revenue)  \n",
    "print(industry)\n"
   ]
  },
  {
   "cell_type": "markdown",
   "metadata": {
    "colab_type": "text",
    "id": "-81p1Q38WVgK"
   },
   "source": [
    "**Правильный ответ:**\n",
    "\n",
    "`['Name', 'Walmart', 'Sinopec', 'Royal Dutch Shell', 'China National Petroleum', 'State Grid', 'Saudi Aramco', 'BP', 'ExxonMobil', 'Volkswagen', 'Toyota', 'Apple', 'Berkshire Hathaway', 'Amazon', 'UnitedHealth', 'Samsung Electronics', 'Glencore', 'McKesson', 'Daimler', 'CVS Health', 'Total', 'China State Construction', 'Trafigura', 'Foxconn', 'Exor', 'AT&T', 'ICBC', 'AmerisourceBergen', 'Chevron', 'Ping An Insurance', 'Ford', 'China Construction Bank', 'General Motors', 'Mitsubishi', 'Honda', 'Costco', 'Agricultural Bank of China', 'Alphabet', 'Cardinal Health', 'SAIC Motor', 'Walgreens Boots Alliance', 'JPMorgan Chase', 'Gazprom', 'Verizon', 'Bank of China', 'Allianz', 'AXA', 'Kroger', 'General Electric', 'Fannie Mae', 'Lukoil']`\n",
    "\n",
    "`['Revenue(USD millions)', '$514,405', '$414,649', '$396,556', '$392,976', '$387,056', '$355,905', '$303,738', '$290,212', '$278,341', '$272,612', '$265,595', '$247,837', '$232,887', '$226,247', '$221,579', '$219,754', '$214,319', '$197,515', '$194,579', '$184,106', '$181,524', '$180,744', '$175,617', '$175,009', '$170,756', '$168,979', '$167,939', '$166,339', '$163,597', '$160,338', '$151,110', '$147,049', '$145,243', '$143,302', '$141,576', '$139,523', '$136,819', '$136,809', '$136,392', '$131,537', '$131,412', '$131,302', '$130,863', '$127,714', '$126,779', '$125,578', '$121,162', '$120,268', '$120,101', '$119,145']`\n",
    "\n",
    "`['Industry', 'Retail', 'Oil and gas', 'Oil and gas', 'Oil and gas', 'Electricity', 'Oil and gas', 'Oil and gas', 'Oil and gas', 'Automotive', 'Automotive', 'Electronics', 'Conglomerate', 'Retail', 'Healthcare', 'Electronics', 'Commodities', 'Healthcare', 'Automotive', 'Healthcare', 'Oil and gas', 'Construction', 'Commodities', 'Electronics', 'Financials', 'Telecommunications', 'Financials', 'Pharmaceuticals', 'Oil and gas', 'Financials', 'Automotive', 'Financials', 'Automotive', 'Conglomerate', 'Automotive', 'Retail', 'Financials', 'Internet', 'Pharmaceuticals', 'Automotive', 'Retail', 'Financials', 'Oil and gas', 'Telecommunications', 'Financials', 'Financials', 'Financials', 'Retail', 'Conglomerate', 'Financials', 'Oil and gas']`"
   ]
  },
  {
   "cell_type": "code",
   "execution_count": 1,
   "metadata": {
    "colab": {},
    "colab_type": "code",
    "id": "cKnmZp3gnLsV"
   },
   "outputs": [],
   "source": [
    "# Ваше решение. При необходимости создавайте новые ячейки под этой с помощью знака +\n",
    "import requests\n",
    "from bs4 import BeautifulSoup\n",
    "\n",
    "website_url = requests.get(' https://en.wikipedia.org/wiki/List_of_largest_companies_by_revenue').text\n",
    "soup = BeautifulSoup(website_url,'lxml')"
   ]
  },
  {
   "cell_type": "code",
   "execution_count": 2,
   "metadata": {},
   "outputs": [
    {
     "name": "stdout",
     "output_type": "stream",
     "text": [
      "['Name', 'Walmart', 'Sinopec', 'Royal Dutch Shell', 'China National Petroleum', 'State Grid', 'Saudi Aramco', 'BP', 'ExxonMobil', 'Volkswagen', 'Toyota', 'Apple', 'Berkshire Hathaway', 'Amazon', 'UnitedHealth', 'Samsung Electronics', 'Glencore', 'McKesson', 'Daimler', 'CVS Health', 'Total', 'China State Construction', 'Trafigura', 'Foxconn', 'Exor', 'AT&T', 'ICBC', 'AmerisourceBergen', 'Chevron', 'Ping An Insurance', 'Ford', 'China Construction Bank', 'General Motors', 'Mitsubishi', 'Honda', 'Costco', 'Agricultural Bank of China', 'Alphabet', 'Cardinal Health', 'SAIC Motor', 'Walgreens Boots Alliance', 'JPMorgan Chase', 'Gazprom', 'Verizon', 'Bank of China', 'Allianz', 'AXA', 'Kroger', 'General Electric', 'Fannie Mae', 'Lukoil']\n",
      "['Revenue(USD millions)', '$514,405', '$414,649', '$396,556', '$392,976', '$387,056', '$355,905', '$303,738', '$290,212', '$278,341', '$272,612', '$265,595', '$247,837', '$232,887', '$226,247', '$221,579', '$219,754', '$214,319', '$197,515', '$194,579', '$184,106', '$181,524', '$180,744', '$175,617', '$175,009', '$170,756', '$168,979', '$167,939', '$166,339', '$163,597', '$160,338', '$151,110', '$147,049', '$145,243', '$143,302', '$141,576', '$139,523', '$136,819', '$136,809', '$136,392', '$131,537', '$131,412', '$131,302', '$130,863', '$127,714', '$126,779', '$125,578', '$121,162', '$120,268', '$120,101', '$119,145']\n",
      "['Industry', 'Retail', 'Oil and gas', 'Oil and gas', 'Oil and gas', 'Electricity', 'Oil and gas', 'Oil and gas', 'Oil and gas', 'Automotive', 'Automotive', 'Electronics', 'Conglomerate', 'Retail', 'Healthcare', 'Electronics', 'Commodities', 'Healthcare', 'Automotive', 'Healthcare', 'Oil and gas', 'Construction', 'Commodities', 'Electronics', 'Financials', 'Telecommunications', 'Financials', 'Pharmaceuticals', 'Oil and gas', 'Financials', 'Automotive', 'Financials', 'Automotive', 'Conglomerate', 'Automotive', 'Retail', 'Financials', 'Internet', 'Pharmaceuticals', 'Automotive', 'Retail', 'Financials', 'Oil and gas', 'Telecommunications', 'Financials', 'Financials', 'Financials', 'Retail', 'Conglomerate', 'Financials', 'Oil and gas']\n"
     ]
    }
   ],
   "source": [
    "name = []\n",
    "revenue = []\n",
    "industry = []\n",
    "\n",
    "header = soup.find('span',{'id':'List_of_largest_companies_by_revenue'})\n",
    "header = header.find_previous()\n",
    "table = header.find_next('table')\n",
    "\n",
    "cols = table.find('tr').find_all('th')\n",
    "\n",
    "name.append(cols[1].get_text().rstrip())\n",
    "revenue.append(cols[3].get_text().rstrip())\n",
    "industry.append(cols[2].get_text().rstrip())\n",
    "\n",
    "for rows in table.find_all('tr')[1::]:\n",
    "    row = rows.find_all('td')\n",
    "    \n",
    "    name.append(row[0].get_text().rstrip())\n",
    "    revenue.append(row[2].get_text().rstrip())\n",
    "    industry.append(row[1].get_text().rstrip())\n",
    "\n",
    "print(name)  \n",
    "print(revenue)  \n",
    "print(industry)"
   ]
  },
  {
   "cell_type": "markdown",
   "metadata": {
    "colab_type": "text",
    "id": "54M6Ni4tnKh3"
   },
   "source": [
    "**Задание 2.**  \n",
    "*5 баллов (каждый шаг 1 балл)*  \n",
    "В задании вы должны использовать данные, собранные в пункте 1. Задание, выполненное без использования автоматически собранных данных, не засчитывается (например, если вы скопировали все значения из таблицы вручную и нашли их среднее).\n",
    "\n",
    "1. Обработайте список revenue - для каждого значения замените знак $ на пустую строку, а запятую на точку. После этого преобразуйте все значения во float. Итоговый список должен выглядеть вот так.\n",
    "`['Revenue(USD millions)', 514.405, 414.649, 396.556, 392.976, 387.056, 355.905, 303.738, 290.212, 278.341, 272.612, 265.595, 247.837, 232.887, 226.247, 221.579, 219.754, 214.319, 197.515, 194.579, 184.106, 181.524, 180.744, 175.617, 175.009, 170.756, 168.979, 167.939, 166.339, 163.597, 160.338, 151.11, 147.049, 145.243, 143.302, 141.576, 139.523, 136.819, 136.809, 136.392, 131.537, 131.412, 131.302, 130.863, 127.714, 126.779, 125.578, 121.162, 120.268, 120.101, 119.145]`\n",
    "\n",
    "\n",
    "2. Создайте словарь firms, в котором ключом будет название компании (firm), а значением - их доходы (revenue).\n",
    "\n",
    "Итоговый словарь: \n",
    "\n",
    "`{'AT&T': 170.756,\n",
    " 'AXA': 125.578,\n",
    " 'Agricultural Bank of China': 139.523,\n",
    " 'Allianz': 126.779,\n",
    " 'Alphabet': 136.819,\n",
    " 'Amazon': 232.887,\n",
    " 'AmerisourceBergen': 167.939,\n",
    " 'Apple': 265.595,\n",
    " 'BP': 303.738,\n",
    " 'Bank of China': 127.714,\n",
    " 'Berkshire Hathaway': 247.837,\n",
    " 'CVS Health': 194.579,\n",
    " 'Cardinal Health': 136.809,\n",
    " 'Chevron': 166.339,\n",
    " 'China Construction Bank': 151.11,\n",
    " 'China National Petroleum': 392.976,\n",
    " 'China State Construction': 181.524,\n",
    " 'Costco': 141.576,\n",
    " 'Daimler': 197.515,\n",
    " 'Exor': 175.009,\n",
    " 'ExxonMobil': 290.212,\n",
    " 'Fannie Mae': 120.101,\n",
    " 'Ford': 160.338,\n",
    " 'Foxconn': 175.617,\n",
    " 'Gazprom': 131.302,\n",
    " 'General Electric': 120.268,\n",
    " 'General Motors': 147.049,\n",
    " 'Glencore': 219.754,\n",
    " 'Honda': 143.302,\n",
    " 'ICBC': 168.979,\n",
    " 'JPMorgan Chase': 131.412,\n",
    " 'Kroger': 121.162,\n",
    " 'Lukoil': 119.145,\n",
    " 'McKesson': 214.319,\n",
    " 'Mitsubishi': 145.243,\n",
    " 'Ping An Insurance': 163.597,\n",
    " 'Royal Dutch Shell': 396.556,\n",
    " 'SAIC Motor': 136.392,\n",
    " 'Samsung Electronics': 221.579,\n",
    " 'Saudi Aramco': 355.905,\n",
    " 'Sinopec': 414.649,\n",
    " 'State Grid': 387.056,\n",
    " 'Total': 184.106,\n",
    " 'Toyota': 272.612,\n",
    " 'Trafigura': 180.744,\n",
    " 'UnitedHealth': 226.247,\n",
    " 'Verizon': 130.863,\n",
    " 'Volkswagen': 278.341,\n",
    " 'Walgreens Boots Alliance': 131.537,\n",
    " 'Walmart': 514.405}`\n",
    "\n",
    "2. Создайте словарь industries, в котором ключ - название индустрии (industry), а значение пустой список.\n",
    "\n",
    "3. Добавьте в словарь industries в список к каждому ключу названия фирм, которые относятся к этой индустрии.\n",
    "\n",
    "Итоговый словарь:\n",
    "\n",
    "`{'Automotive': ['Volkswagen',\n",
    "  'Toyota',\n",
    "  'Daimler',\n",
    "  'Ford',\n",
    "  'General Motors',\n",
    "  'Honda',\n",
    "  'SAIC Motor'],\n",
    " 'Commodities': ['Glencore', 'Trafigura'],\n",
    " 'Conglomerate': ['Berkshire Hathaway', 'Mitsubishi', 'General Electric'],\n",
    " 'Construction': ['China State Construction'],\n",
    " 'Electricity': ['State Grid'],\n",
    " 'Electronics': ['Apple', 'Samsung Electronics', 'Foxconn'],\n",
    " 'Financials': ['Exor',\n",
    "  'ICBC',\n",
    "  'Ping An Insurance',\n",
    "  'China Construction Bank',\n",
    "  'Agricultural Bank of China',\n",
    "  'JPMorgan Chase',\n",
    "  'Bank of China',\n",
    "  'Allianz',\n",
    "  'AXA',\n",
    "  'Fannie Mae'],\n",
    " 'Healthcare': ['UnitedHealth', 'McKesson', 'CVS Health'],\n",
    " 'Internet': ['Alphabet'],\n",
    " 'Oil and gas': ['Sinopec',\n",
    "  'Royal Dutch Shell',\n",
    "  'China National Petroleum',\n",
    "  'Saudi Aramco',\n",
    "  'BP',\n",
    "  'ExxonMobil',\n",
    "  'Total',\n",
    "  'Chevron',\n",
    "  'Gazprom',\n",
    "  'Lukoil'],\n",
    " 'Pharmaceuticals': ['AmerisourceBergen', 'Cardinal Health'],\n",
    " 'Retail': ['Walmart',\n",
    "  'Amazon',\n",
    "  'Costco',\n",
    "  'Walgreens Boots Alliance',\n",
    "  'Kroger'],\n",
    " 'Telecommunications': ['AT&T', 'Verizon']}`\n",
    "\n",
    "5. Напишите программу, которая проходит циклом по всем фирмам и для каждой фирмы выводит следующее сообщение на новой строке: '{название фирмы} represent {название индустрии} and has earned {доходы}' million dollars.\n"
   ]
  },
  {
   "cell_type": "code",
   "execution_count": 3,
   "metadata": {
    "colab": {},
    "colab_type": "code",
    "id": "0Jlbvh5HhmcT"
   },
   "outputs": [
    {
     "name": "stdout",
     "output_type": "stream",
     "text": [
      "['Revenue(USD millions)', '514,405', '414,649', '396,556', '392,976', '387,056', '355,905', '303,738', '290,212', '278,341', '272,612', '265,595', '247,837', '232,887', '226,247', '221,579', '219,754', '214,319', '197,515', '194,579', '184,106', '181,524', '180,744', '175,617', '175,009', '170,756', '168,979', '167,939', '166,339', '163,597', '160,338', '151,110', '147,049', '145,243', '143,302', '141,576', '139,523', '136,819', '136,809', '136,392', '131,537', '131,412', '131,302', '130,863', '127,714', '126,779', '125,578', '121,162', '120,268', '120,101', '119,145']\n"
     ]
    }
   ],
   "source": [
    "# обработка revenues\n",
    "for i in range(1, len(revenue)):\n",
    "    revenue[i] = revenue[i].replace('$', '')\n",
    "    \n",
    "print(revenue)"
   ]
  },
  {
   "cell_type": "code",
   "execution_count": 4,
   "metadata": {
    "colab": {},
    "colab_type": "code",
    "id": "kGulflf4hoYi"
   },
   "outputs": [
    {
     "name": "stdout",
     "output_type": "stream",
     "text": [
      "{'Walmart': '514,405', 'Sinopec': '414,649', 'Royal Dutch Shell': '396,556', 'China National Petroleum': '392,976', 'State Grid': '387,056', 'Saudi Aramco': '355,905', 'BP': '303,738', 'ExxonMobil': '290,212', 'Volkswagen': '278,341', 'Toyota': '272,612', 'Apple': '265,595', 'Berkshire Hathaway': '247,837', 'Amazon': '232,887', 'UnitedHealth': '226,247', 'Samsung Electronics': '221,579', 'Glencore': '219,754', 'McKesson': '214,319', 'Daimler': '197,515', 'CVS Health': '194,579', 'Total': '184,106', 'China State Construction': '181,524', 'Trafigura': '180,744', 'Foxconn': '175,617', 'Exor': '175,009', 'AT&T': '170,756', 'ICBC': '168,979', 'AmerisourceBergen': '167,939', 'Chevron': '166,339', 'Ping An Insurance': '163,597', 'Ford': '160,338', 'China Construction Bank': '151,110', 'General Motors': '147,049', 'Mitsubishi': '145,243', 'Honda': '143,302', 'Costco': '141,576', 'Agricultural Bank of China': '139,523', 'Alphabet': '136,819', 'Cardinal Health': '136,809', 'SAIC Motor': '136,392', 'Walgreens Boots Alliance': '131,537', 'JPMorgan Chase': '131,412', 'Gazprom': '131,302', 'Verizon': '130,863', 'Bank of China': '127,714', 'Allianz': '126,779', 'AXA': '125,578', 'Kroger': '121,162', 'General Electric': '120,268', 'Fannie Mae': '120,101', 'Lukoil': '119,145'}\n"
     ]
    }
   ],
   "source": [
    "# словарь firms\n",
    "firms = {}\n",
    "\n",
    "for i in range(1, len(name)):\n",
    "    firms[name[i]] = revenue[i]\n",
    "    \n",
    "print(firms)"
   ]
  },
  {
   "cell_type": "code",
   "execution_count": 5,
   "metadata": {
    "colab": {},
    "colab_type": "code",
    "id": "cTy-XxoOhpkY"
   },
   "outputs": [
    {
     "name": "stdout",
     "output_type": "stream",
     "text": [
      "{'Retail': [], 'Oil and gas': [], 'Electricity': [], 'Automotive': [], 'Electronics': [], 'Conglomerate': [], 'Healthcare': [], 'Commodities': [], 'Construction': [], 'Financials': [], 'Telecommunications': [], 'Pharmaceuticals': [], 'Internet': []}\n"
     ]
    }
   ],
   "source": [
    "# словарь industries\n",
    "industries = {}\n",
    "\n",
    "for i in range(1, len(industry)):\n",
    "    industries[industry[i]] = []\n",
    "    \n",
    "print(industries)"
   ]
  },
  {
   "cell_type": "code",
   "execution_count": 6,
   "metadata": {
    "colab": {},
    "colab_type": "code",
    "id": "oSu7y9A4h9qu"
   },
   "outputs": [
    {
     "name": "stdout",
     "output_type": "stream",
     "text": [
      "{'Retail': ['Walmart', 'Amazon', 'Costco', 'Walgreens Boots Alliance', 'Kroger'], 'Oil and gas': ['Sinopec', 'Royal Dutch Shell', 'China National Petroleum', 'Saudi Aramco', 'BP', 'ExxonMobil', 'Total', 'Chevron', 'Gazprom', 'Lukoil'], 'Electricity': ['State Grid'], 'Automotive': ['Volkswagen', 'Toyota', 'Daimler', 'Ford', 'General Motors', 'Honda', 'SAIC Motor'], 'Electronics': ['Apple', 'Samsung Electronics', 'Foxconn'], 'Conglomerate': ['Berkshire Hathaway', 'Mitsubishi', 'General Electric'], 'Healthcare': ['UnitedHealth', 'McKesson', 'CVS Health'], 'Commodities': ['Glencore', 'Trafigura'], 'Construction': ['China State Construction'], 'Financials': ['Exor', 'ICBC', 'Ping An Insurance', 'China Construction Bank', 'Agricultural Bank of China', 'JPMorgan Chase', 'Bank of China', 'Allianz', 'AXA', 'Fannie Mae'], 'Telecommunications': ['AT&T', 'Verizon'], 'Pharmaceuticals': ['AmerisourceBergen', 'Cardinal Health'], 'Internet': ['Alphabet']}\n"
     ]
    }
   ],
   "source": [
    "# добавляем фирмы в словарь industries\n",
    "for i in range(1, len(name)):\n",
    "    industries[industry[i]].append(name[i])\n",
    "    \n",
    "print(industries)"
   ]
  },
  {
   "cell_type": "code",
   "execution_count": 7,
   "metadata": {
    "colab": {},
    "colab_type": "code",
    "id": "KEW0-LwNiAd8"
   },
   "outputs": [
    {
     "name": "stdout",
     "output_type": "stream",
     "text": [
      "Walmart represent Retail and has earned 514,405 million dollars.\n",
      "Amazon represent Retail and has earned 232,887 million dollars.\n",
      "Costco represent Retail and has earned 141,576 million dollars.\n",
      "Walgreens Boots Alliance represent Retail and has earned 131,537 million dollars.\n",
      "Kroger represent Retail and has earned 121,162 million dollars.\n",
      "Sinopec represent Oil and gas and has earned 414,649 million dollars.\n",
      "Royal Dutch Shell represent Oil and gas and has earned 396,556 million dollars.\n",
      "China National Petroleum represent Oil and gas and has earned 392,976 million dollars.\n",
      "Saudi Aramco represent Oil and gas and has earned 355,905 million dollars.\n",
      "BP represent Oil and gas and has earned 303,738 million dollars.\n",
      "ExxonMobil represent Oil and gas and has earned 290,212 million dollars.\n",
      "Total represent Oil and gas and has earned 184,106 million dollars.\n",
      "Chevron represent Oil and gas and has earned 166,339 million dollars.\n",
      "Gazprom represent Oil and gas and has earned 131,302 million dollars.\n",
      "Lukoil represent Oil and gas and has earned 119,145 million dollars.\n",
      "State Grid represent Electricity and has earned 387,056 million dollars.\n",
      "Volkswagen represent Automotive and has earned 278,341 million dollars.\n",
      "Toyota represent Automotive and has earned 272,612 million dollars.\n",
      "Daimler represent Automotive and has earned 197,515 million dollars.\n",
      "Ford represent Automotive and has earned 160,338 million dollars.\n",
      "General Motors represent Automotive and has earned 147,049 million dollars.\n",
      "Honda represent Automotive and has earned 143,302 million dollars.\n",
      "SAIC Motor represent Automotive and has earned 136,392 million dollars.\n",
      "Apple represent Electronics and has earned 265,595 million dollars.\n",
      "Samsung Electronics represent Electronics and has earned 221,579 million dollars.\n",
      "Foxconn represent Electronics and has earned 175,617 million dollars.\n",
      "Berkshire Hathaway represent Conglomerate and has earned 247,837 million dollars.\n",
      "Mitsubishi represent Conglomerate and has earned 145,243 million dollars.\n",
      "General Electric represent Conglomerate and has earned 120,268 million dollars.\n",
      "UnitedHealth represent Healthcare and has earned 226,247 million dollars.\n",
      "McKesson represent Healthcare and has earned 214,319 million dollars.\n",
      "CVS Health represent Healthcare and has earned 194,579 million dollars.\n",
      "Glencore represent Commodities and has earned 219,754 million dollars.\n",
      "Trafigura represent Commodities and has earned 180,744 million dollars.\n",
      "China State Construction represent Construction and has earned 181,524 million dollars.\n",
      "Exor represent Financials and has earned 175,009 million dollars.\n",
      "ICBC represent Financials and has earned 168,979 million dollars.\n",
      "Ping An Insurance represent Financials and has earned 163,597 million dollars.\n",
      "China Construction Bank represent Financials and has earned 151,110 million dollars.\n",
      "Agricultural Bank of China represent Financials and has earned 139,523 million dollars.\n",
      "JPMorgan Chase represent Financials and has earned 131,412 million dollars.\n",
      "Bank of China represent Financials and has earned 127,714 million dollars.\n",
      "Allianz represent Financials and has earned 126,779 million dollars.\n",
      "AXA represent Financials and has earned 125,578 million dollars.\n",
      "Fannie Mae represent Financials and has earned 120,101 million dollars.\n",
      "AT&T represent Telecommunications and has earned 170,756 million dollars.\n",
      "Verizon represent Telecommunications and has earned 130,863 million dollars.\n",
      "AmerisourceBergen represent Pharmaceuticals and has earned 167,939 million dollars.\n",
      "Cardinal Health represent Pharmaceuticals and has earned 136,809 million dollars.\n",
      "Alphabet represent Internet and has earned 136,819 million dollars.\n"
     ]
    }
   ],
   "source": [
    "# доходы фирм\n",
    "for industrie in industries:\n",
    "    for company in industries[industrie]:\n",
    "        print('{} represent {} and has earned {} million dollars.'.format(\n",
    "            company, industrie, firms[company]\n",
    "        ))"
   ]
  },
  {
   "cell_type": "code",
   "execution_count": null,
   "metadata": {},
   "outputs": [],
   "source": []
  }
 ],
 "metadata": {
  "colab": {
   "collapsed_sections": [],
   "name": "8_HW_RISO_ready.ipynb",
   "provenance": []
  },
  "kernelspec": {
   "display_name": "Python 3",
   "language": "python",
   "name": "python3"
  },
  "language_info": {
   "codemirror_mode": {
    "name": "ipython",
    "version": 3
   },
   "file_extension": ".py",
   "mimetype": "text/x-python",
   "name": "python",
   "nbconvert_exporter": "python",
   "pygments_lexer": "ipython3",
   "version": "3.6.8"
  }
 },
 "nbformat": 4,
 "nbformat_minor": 2
}
