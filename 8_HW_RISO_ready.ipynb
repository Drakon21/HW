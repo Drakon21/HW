{
 "cells": [
  {
   "cell_type": "markdown",
   "metadata": {
    "colab_type": "text",
    "id": "phfKtZ6YmBfX"
   },
   "source": [
    "# Домашнее задание.\n",
    "\n",
    "Вам нужно решить задачи, предложенные в блокноте и отправить этот блокнот обратно через проект в ЛМС. \n",
    "\n",
    "Засчитываются только те задания, которые полностью выполнены и код работает (мы будем вручную запускать эти ячейки, поэтому если ваш код не сработает, то мы будем считать, что задание не выполненно).\n",
    "\n",
    "Если мы обнаружим списанные работы - мы обнулим результат всем студентам, которых мы подозреваем в списывании. Если у нас будут сомнения, будет проведена защита домашнего задания по результатам которого, к домашнему заданию может быть применен штраф от 25 до 100%.\n",
    "\n"
   ]
  },
  {
   "cell_type": "markdown",
   "metadata": {
    "colab_type": "text",
    "id": "WqWleAH3mgu2"
   },
   "source": [
    "**Задание 1.**  \n",
    "*5 баллов*  \n",
    "\n",
    "1. На странице в https://en.wikipedia.org/wiki/List_of_largest_companies_by_revenue нужно найти таблицу под названием \"List of largest companies by revenue\". \n",
    "\n",
    "2. С помощью поиска по тегам, нужно сохранить из таблицы следующие колонки: 'Name', 'Revenue (USD billion)', 'Country'. Каждая колонка таблицы должна быть сохранена в отдельную переменную (см. ниже названия), внутри которой лежит список, где первое значение - название колонки.\n",
    "\n",
    "При поиске класса таблицы опускайте часть названия класса, которая относится к jquery (например jquery-tablesorter). Также обратите внимание, что первое значение в каждом ряду (колонка rank) лежит в тэге th, поэтому номер элемента для нужной колонке в первом ряду с table headers и в других рядах будет отличаться на 1. \n",
    "\n",
    "Например, колонки 'industry' список будет выглядеть так:  \n",
    "['Industry', 'Retail', ...остальные значения..., \t'Oil and gas']\n",
    "3. Выведите эти три списка командой  \n",
    "print(name)  \n",
    "print(revenue)  \n",
    "print(industry)\n"
   ]
  },
  {
   "cell_type": "markdown",
   "metadata": {
    "colab_type": "text",
    "id": "-81p1Q38WVgK"
   },
   "source": [
    "**Правильный ответ:**\n",
    "\n",
    "`['Name', 'Walmart', 'Sinopec', 'Royal Dutch Shell', 'China National Petroleum', 'State Grid', 'Saudi Aramco', 'BP', 'ExxonMobil', 'Volkswagen', 'Toyota', 'Apple', 'Berkshire Hathaway', 'Amazon', 'UnitedHealth', 'Samsung Electronics', 'Glencore', 'McKesson', 'Daimler', 'CVS Health', 'Total', 'China State Construction', 'Trafigura', 'Foxconn', 'Exor', 'AT&T', 'ICBC', 'AmerisourceBergen', 'Chevron', 'Ping An Insurance', 'Ford', 'China Construction Bank', 'General Motors', 'Mitsubishi', 'Honda', 'Costco', 'Agricultural Bank of China', 'Alphabet', 'Cardinal Health', 'SAIC Motor', 'Walgreens Boots Alliance', 'JPMorgan Chase', 'Gazprom', 'Verizon', 'Bank of China', 'Allianz', 'AXA', 'Kroger', 'General Electric', 'Fannie Mae', 'Lukoil']`\n",
    "\n",
    "`['Revenue(USD millions)', '$514,405', '$414,649', '$396,556', '$392,976', '$387,056', '$355,905', '$303,738', '$290,212', '$278,341', '$272,612', '$265,595', '$247,837', '$232,887', '$226,247', '$221,579', '$219,754', '$214,319', '$197,515', '$194,579', '$184,106', '$181,524', '$180,744', '$175,617', '$175,009', '$170,756', '$168,979', '$167,939', '$166,339', '$163,597', '$160,338', '$151,110', '$147,049', '$145,243', '$143,302', '$141,576', '$139,523', '$136,819', '$136,809', '$136,392', '$131,537', '$131,412', '$131,302', '$130,863', '$127,714', '$126,779', '$125,578', '$121,162', '$120,268', '$120,101', '$119,145']`\n",
    "\n",
    "`['Industry', 'Retail', 'Oil and gas', 'Oil and gas', 'Oil and gas', 'Electricity', 'Oil and gas', 'Oil and gas', 'Oil and gas', 'Automotive', 'Automotive', 'Electronics', 'Conglomerate', 'Retail', 'Healthcare', 'Electronics', 'Commodities', 'Healthcare', 'Automotive', 'Healthcare', 'Oil and gas', 'Construction', 'Commodities', 'Electronics', 'Financials', 'Telecommunications', 'Financials', 'Pharmaceuticals', 'Oil and gas', 'Financials', 'Automotive', 'Financials', 'Automotive', 'Conglomerate', 'Automotive', 'Retail', 'Financials', 'Internet', 'Pharmaceuticals', 'Automotive', 'Retail', 'Financials', 'Oil and gas', 'Telecommunications', 'Financials', 'Financials', 'Financials', 'Retail', 'Conglomerate', 'Financials', 'Oil and gas']`"
   ]
  },
  {
   "cell_type": "code",
   "execution_count": null,
   "metadata": {
    "colab": {},
    "colab_type": "code",
    "id": "cKnmZp3gnLsV"
   },
   "outputs": [],
   "source": [
    "# Ваше решение. При необходимости создавайте новые ячейки под этой с помощью знака +"
   ]
  },
  {
   "cell_type": "markdown",
   "metadata": {
    "colab_type": "text",
    "id": "54M6Ni4tnKh3"
   },
   "source": [
    "**Задание 2.**  \n",
    "*5 баллов (каждый шаг 1 балл)*  \n",
    "В задании вы должны использовать данные, собранные в пункте 1. Задание, выполненное без использования автоматически собранных данных, не засчитывается (например, если вы скопировали все значения из таблицы вручную и нашли их среднее).\n",
    "\n",
    "1. Обработайте список revenue - для каждого значения замените знак $ на пустую строку, а запятую на точку. После этого преобразуйте все значения во float. Итоговый список должен выглядеть вот так.\n",
    "`['Revenue(USD millions)', 514.405, 414.649, 396.556, 392.976, 387.056, 355.905, 303.738, 290.212, 278.341, 272.612, 265.595, 247.837, 232.887, 226.247, 221.579, 219.754, 214.319, 197.515, 194.579, 184.106, 181.524, 180.744, 175.617, 175.009, 170.756, 168.979, 167.939, 166.339, 163.597, 160.338, 151.11, 147.049, 145.243, 143.302, 141.576, 139.523, 136.819, 136.809, 136.392, 131.537, 131.412, 131.302, 130.863, 127.714, 126.779, 125.578, 121.162, 120.268, 120.101, 119.145]`\n",
    "\n",
    "\n",
    "2. Создайте словарь firms, в котором ключом будет название компании (firm), а значением - их доходы (revenue).\n",
    "\n",
    "Итоговый словарь: \n",
    "\n",
    "`{'AT&T': 170.756,\n",
    " 'AXA': 125.578,\n",
    " 'Agricultural Bank of China': 139.523,\n",
    " 'Allianz': 126.779,\n",
    " 'Alphabet': 136.819,\n",
    " 'Amazon': 232.887,\n",
    " 'AmerisourceBergen': 167.939,\n",
    " 'Apple': 265.595,\n",
    " 'BP': 303.738,\n",
    " 'Bank of China': 127.714,\n",
    " 'Berkshire Hathaway': 247.837,\n",
    " 'CVS Health': 194.579,\n",
    " 'Cardinal Health': 136.809,\n",
    " 'Chevron': 166.339,\n",
    " 'China Construction Bank': 151.11,\n",
    " 'China National Petroleum': 392.976,\n",
    " 'China State Construction': 181.524,\n",
    " 'Costco': 141.576,\n",
    " 'Daimler': 197.515,\n",
    " 'Exor': 175.009,\n",
    " 'ExxonMobil': 290.212,\n",
    " 'Fannie Mae': 120.101,\n",
    " 'Ford': 160.338,\n",
    " 'Foxconn': 175.617,\n",
    " 'Gazprom': 131.302,\n",
    " 'General Electric': 120.268,\n",
    " 'General Motors': 147.049,\n",
    " 'Glencore': 219.754,\n",
    " 'Honda': 143.302,\n",
    " 'ICBC': 168.979,\n",
    " 'JPMorgan Chase': 131.412,\n",
    " 'Kroger': 121.162,\n",
    " 'Lukoil': 119.145,\n",
    " 'McKesson': 214.319,\n",
    " 'Mitsubishi': 145.243,\n",
    " 'Ping An Insurance': 163.597,\n",
    " 'Royal Dutch Shell': 396.556,\n",
    " 'SAIC Motor': 136.392,\n",
    " 'Samsung Electronics': 221.579,\n",
    " 'Saudi Aramco': 355.905,\n",
    " 'Sinopec': 414.649,\n",
    " 'State Grid': 387.056,\n",
    " 'Total': 184.106,\n",
    " 'Toyota': 272.612,\n",
    " 'Trafigura': 180.744,\n",
    " 'UnitedHealth': 226.247,\n",
    " 'Verizon': 130.863,\n",
    " 'Volkswagen': 278.341,\n",
    " 'Walgreens Boots Alliance': 131.537,\n",
    " 'Walmart': 514.405}`\n",
    "\n",
    "2. Создайте словарь industries, в котором ключ - название индустрии (industry), а значение пустой список.\n",
    "\n",
    "3. Добавьте в словарь industries в список к каждому ключу названия фирм, которые относятся к этой индустрии.\n",
    "\n",
    "Итоговый словарь:\n",
    "\n",
    "`{'Automotive': ['Volkswagen',\n",
    "  'Toyota',\n",
    "  'Daimler',\n",
    "  'Ford',\n",
    "  'General Motors',\n",
    "  'Honda',\n",
    "  'SAIC Motor'],\n",
    " 'Commodities': ['Glencore', 'Trafigura'],\n",
    " 'Conglomerate': ['Berkshire Hathaway', 'Mitsubishi', 'General Electric'],\n",
    " 'Construction': ['China State Construction'],\n",
    " 'Electricity': ['State Grid'],\n",
    " 'Electronics': ['Apple', 'Samsung Electronics', 'Foxconn'],\n",
    " 'Financials': ['Exor',\n",
    "  'ICBC',\n",
    "  'Ping An Insurance',\n",
    "  'China Construction Bank',\n",
    "  'Agricultural Bank of China',\n",
    "  'JPMorgan Chase',\n",
    "  'Bank of China',\n",
    "  'Allianz',\n",
    "  'AXA',\n",
    "  'Fannie Mae'],\n",
    " 'Healthcare': ['UnitedHealth', 'McKesson', 'CVS Health'],\n",
    " 'Internet': ['Alphabet'],\n",
    " 'Oil and gas': ['Sinopec',\n",
    "  'Royal Dutch Shell',\n",
    "  'China National Petroleum',\n",
    "  'Saudi Aramco',\n",
    "  'BP',\n",
    "  'ExxonMobil',\n",
    "  'Total',\n",
    "  'Chevron',\n",
    "  'Gazprom',\n",
    "  'Lukoil'],\n",
    " 'Pharmaceuticals': ['AmerisourceBergen', 'Cardinal Health'],\n",
    " 'Retail': ['Walmart',\n",
    "  'Amazon',\n",
    "  'Costco',\n",
    "  'Walgreens Boots Alliance',\n",
    "  'Kroger'],\n",
    " 'Telecommunications': ['AT&T', 'Verizon']}`\n",
    "\n",
    "5. Напишите программу, которая проходит циклом по всем фирмам и для каждой фирмы выводит следующее сообщение на новой строке: '{название фирмы} represent {название индустрии} and has earned {доходы}' million dollars.\n"
   ]
  },
  {
   "cell_type": "code",
   "execution_count": null,
   "metadata": {
    "colab": {},
    "colab_type": "code",
    "id": "0Jlbvh5HhmcT"
   },
   "outputs": [],
   "source": [
    "# обработка revenues"
   ]
  },
  {
   "cell_type": "code",
   "execution_count": null,
   "metadata": {
    "colab": {},
    "colab_type": "code",
    "id": "kGulflf4hoYi"
   },
   "outputs": [],
   "source": [
    "# словарь firms"
   ]
  },
  {
   "cell_type": "code",
   "execution_count": null,
   "metadata": {
    "colab": {},
    "colab_type": "code",
    "id": "cTy-XxoOhpkY"
   },
   "outputs": [],
   "source": [
    "# словарь industries"
   ]
  },
  {
   "cell_type": "code",
   "execution_count": null,
   "metadata": {
    "colab": {},
    "colab_type": "code",
    "id": "oSu7y9A4h9qu"
   },
   "outputs": [],
   "source": [
    "# добавляем фирмы в словарь industries"
   ]
  },
  {
   "cell_type": "code",
   "execution_count": null,
   "metadata": {
    "colab": {},
    "colab_type": "code",
    "id": "KEW0-LwNiAd8"
   },
   "outputs": [],
   "source": [
    "# доходы фирм"
   ]
  }
 ],
 "metadata": {
  "colab": {
   "collapsed_sections": [],
   "name": "8_HW_RISO_ready.ipynb",
   "provenance": []
  },
  "kernelspec": {
   "display_name": "Python 3",
   "language": "python",
   "name": "python3"
  },
  "language_info": {
   "codemirror_mode": {
    "name": "ipython",
    "version": 3
   },
   "file_extension": ".py",
   "mimetype": "text/x-python",
   "name": "python",
   "nbconvert_exporter": "python",
   "pygments_lexer": "ipython3",
   "version": "3.6.5"
  }
 },
 "nbformat": 4,
 "nbformat_minor": 2
}
